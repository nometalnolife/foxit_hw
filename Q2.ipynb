{
 "cells": [
  {
   "cell_type": "code",
   "execution_count": 1,
   "id": "fa90cb05",
   "metadata": {},
   "outputs": [],
   "source": [
    "import pandas as pd\n",
    "import json"
   ]
  },
  {
   "cell_type": "code",
   "execution_count": 2,
   "id": "2df7cd3a",
   "metadata": {},
   "outputs": [
    {
     "data": {
      "text/plain": [
       "'C:\\\\Users\\\\HuangOwe\\\\Python_Projects\\\\Untitled Folder'"
      ]
     },
     "execution_count": 2,
     "metadata": {},
     "output_type": "execute_result"
    }
   ],
   "source": [
    "pwd"
   ]
  },
  {
   "cell_type": "markdown",
   "id": "2b6b8051",
   "metadata": {},
   "source": [
    "# Step1. Load and Explore Data"
   ]
  },
  {
   "cell_type": "code",
   "execution_count": 3,
   "id": "890aa9e4",
   "metadata": {},
   "outputs": [],
   "source": [
    "data = json.load(open('test.json', encoding=\"utf8\"))"
   ]
  },
  {
   "cell_type": "code",
   "execution_count": 4,
   "id": "c2b5eecc",
   "metadata": {},
   "outputs": [
    {
     "data": {
      "text/plain": [
       "{'completions': [{'created_at': 1612850273,\n",
       "   'id': 2001,\n",
       "   'lead_time': 2552.251,\n",
       "   'result': [{'from_name': 'ner',\n",
       "     'id': 'IpAlj7cp63',\n",
       "     'to_name': 'text',\n",
       "     'type': 'hypertextlabels',\n",
       "     'value': {'end': '/h1[1]/a[1]/text()[1]',\n",
       "      'endOffset': 24,\n",
       "      'htmllabels': ['Contract Title'],\n",
       "      'start': '/h1[1]/text()[1]',\n",
       "      'startOffset': 0,\n",
       "      'text': 'Mutual Confidentiality and Non-Disclosure Agreement'}},\n",
       "    {'from_name': 'ner',\n",
       "     'id': 'GrK2W6QwCs',\n",
       "     'to_name': 'text',\n",
       "     'type': 'hypertextlabels',\n",
       "     'value': {'end': '/p[2]/text()[1]',\n",
       "      'endOffset': 352,\n",
       "      'htmllabels': ['Commencement'],\n",
       "      'start': '/p[2]/text()[1]',\n",
       "      'startOffset': 0,\n",
       "      'text': 'In order to protect certain confidential information which may be disclosed between them, NewNet Communication Technologies, LLC and the undersigned company (each referred to as a “Party” or collectively as the “Parties”) agree to the following terms and conditions (the “Agreement”) to cover disclosure of the Confidential Information described below:'}},\n",
       "    {'from_name': 'ner',\n",
       "     'id': 'gXVcsH6WEX',\n",
       "     'to_name': 'text',\n",
       "     'type': 'hypertextlabels',\n",
       "     'value': {'end': '/p[21]/text()[2]',\n",
       "      'endOffset': 155,\n",
       "      'htmllabels': ['CI Definition'],\n",
       "      'start': '/p[21]/text()[2]',\n",
       "      'startOffset': 2,\n",
       "      'text': 'Either Party may terminate this Agreement by giving the other Party written notice thereof at least thirty (30) days prior to the effective date thereof.'}},\n",
       "    {'from_name': 'ner',\n",
       "     'id': 'mNB7O1NnNG',\n",
       "     'to_name': 'text',\n",
       "     'type': 'hypertextlabels',\n",
       "     'value': {'end': '/p[21]/text()[3]',\n",
       "      'endOffset': 125,\n",
       "      'htmllabels': ['Survival'],\n",
       "      'start': '/p[21]/text()[3]',\n",
       "      'startOffset': 1,\n",
       "      'text': 'However, the obligations of this Agreement shall survive termination for the three (3) year period described in paragraph 3.'}},\n",
       "    {'from_name': 'ner',\n",
       "     'id': 'U4eD_TQ614',\n",
       "     'to_name': 'text',\n",
       "     'type': 'hypertextlabels',\n",
       "     'value': {'end': '/p[24]/text()[2]',\n",
       "      'endOffset': 271,\n",
       "      'htmllabels': ['Assignment and Succssor'],\n",
       "      'start': '/p[24]/text()[2]',\n",
       "      'startOffset': 3,\n",
       "      'text': 'Neither Party may delegate its obligations hereunder or assign its rights as a Recipient without the prior written consent of the other Party, and any purported assignment or delegation in violation of this Agreement will be void and deemed a breach of this Agreement.'}},\n",
       "    {'from_name': 'ner',\n",
       "     'id': 'BwoMq7Bjp3',\n",
       "     'to_name': 'text',\n",
       "     'type': 'hypertextlabels',\n",
       "     'value': {'end': '/p[25]/text()[2]',\n",
       "      'endOffset': 386,\n",
       "      'htmllabels': ['Entire Agreement'],\n",
       "      'start': '/p[25]/text()[2]',\n",
       "      'startOffset': 0,\n",
       "      'text': 'Except by a specific written instrument duly executed by both Paties, this Agreement sets forth the entire understanding of the Parties with respect to the subject matter hereof; incorporates and merges any and all previous agreements, understandings, and communications (oral or written) with respect to the subject matter of this Agreement and may not be modified, amended or waived. '}}]}],\n",
       " 'data': {'filename': '1qpqQsbhhUq.html',\n",
       "  'text': '<html> html_content </html>'},\n",
       " 'id': 23}"
      ]
     },
     "execution_count": 4,
     "metadata": {},
     "output_type": "execute_result"
    }
   ],
   "source": [
    "data"
   ]
  },
  {
   "cell_type": "code",
   "execution_count": 5,
   "id": "3302588e",
   "metadata": {},
   "outputs": [
    {
     "data": {
      "text/plain": [
       "[{'created_at': 1612850273,\n",
       "  'id': 2001,\n",
       "  'lead_time': 2552.251,\n",
       "  'result': [{'from_name': 'ner',\n",
       "    'id': 'IpAlj7cp63',\n",
       "    'to_name': 'text',\n",
       "    'type': 'hypertextlabels',\n",
       "    'value': {'end': '/h1[1]/a[1]/text()[1]',\n",
       "     'endOffset': 24,\n",
       "     'htmllabels': ['Contract Title'],\n",
       "     'start': '/h1[1]/text()[1]',\n",
       "     'startOffset': 0,\n",
       "     'text': 'Mutual Confidentiality and Non-Disclosure Agreement'}},\n",
       "   {'from_name': 'ner',\n",
       "    'id': 'GrK2W6QwCs',\n",
       "    'to_name': 'text',\n",
       "    'type': 'hypertextlabels',\n",
       "    'value': {'end': '/p[2]/text()[1]',\n",
       "     'endOffset': 352,\n",
       "     'htmllabels': ['Commencement'],\n",
       "     'start': '/p[2]/text()[1]',\n",
       "     'startOffset': 0,\n",
       "     'text': 'In order to protect certain confidential information which may be disclosed between them, NewNet Communication Technologies, LLC and the undersigned company (each referred to as a “Party” or collectively as the “Parties”) agree to the following terms and conditions (the “Agreement”) to cover disclosure of the Confidential Information described below:'}},\n",
       "   {'from_name': 'ner',\n",
       "    'id': 'gXVcsH6WEX',\n",
       "    'to_name': 'text',\n",
       "    'type': 'hypertextlabels',\n",
       "    'value': {'end': '/p[21]/text()[2]',\n",
       "     'endOffset': 155,\n",
       "     'htmllabels': ['CI Definition'],\n",
       "     'start': '/p[21]/text()[2]',\n",
       "     'startOffset': 2,\n",
       "     'text': 'Either Party may terminate this Agreement by giving the other Party written notice thereof at least thirty (30) days prior to the effective date thereof.'}},\n",
       "   {'from_name': 'ner',\n",
       "    'id': 'mNB7O1NnNG',\n",
       "    'to_name': 'text',\n",
       "    'type': 'hypertextlabels',\n",
       "    'value': {'end': '/p[21]/text()[3]',\n",
       "     'endOffset': 125,\n",
       "     'htmllabels': ['Survival'],\n",
       "     'start': '/p[21]/text()[3]',\n",
       "     'startOffset': 1,\n",
       "     'text': 'However, the obligations of this Agreement shall survive termination for the three (3) year period described in paragraph 3.'}},\n",
       "   {'from_name': 'ner',\n",
       "    'id': 'U4eD_TQ614',\n",
       "    'to_name': 'text',\n",
       "    'type': 'hypertextlabels',\n",
       "    'value': {'end': '/p[24]/text()[2]',\n",
       "     'endOffset': 271,\n",
       "     'htmllabels': ['Assignment and Succssor'],\n",
       "     'start': '/p[24]/text()[2]',\n",
       "     'startOffset': 3,\n",
       "     'text': 'Neither Party may delegate its obligations hereunder or assign its rights as a Recipient without the prior written consent of the other Party, and any purported assignment or delegation in violation of this Agreement will be void and deemed a breach of this Agreement.'}},\n",
       "   {'from_name': 'ner',\n",
       "    'id': 'BwoMq7Bjp3',\n",
       "    'to_name': 'text',\n",
       "    'type': 'hypertextlabels',\n",
       "    'value': {'end': '/p[25]/text()[2]',\n",
       "     'endOffset': 386,\n",
       "     'htmllabels': ['Entire Agreement'],\n",
       "     'start': '/p[25]/text()[2]',\n",
       "     'startOffset': 0,\n",
       "     'text': 'Except by a specific written instrument duly executed by both Paties, this Agreement sets forth the entire understanding of the Parties with respect to the subject matter hereof; incorporates and merges any and all previous agreements, understandings, and communications (oral or written) with respect to the subject matter of this Agreement and may not be modified, amended or waived. '}}]}]"
      ]
     },
     "execution_count": 5,
     "metadata": {},
     "output_type": "execute_result"
    }
   ],
   "source": [
    "data['completions']"
   ]
  },
  {
   "cell_type": "markdown",
   "id": "e91231e7",
   "metadata": {},
   "source": [
    "## Extract the important file"
   ]
  },
  {
   "cell_type": "code",
   "execution_count": 6,
   "id": "38d41b95",
   "metadata": {},
   "outputs": [],
   "source": [
    "focus_data = data['completions'][0]['result']"
   ]
  },
  {
   "cell_type": "markdown",
   "id": "290106d5",
   "metadata": {},
   "source": [
    "### build the new empty object to save file."
   ]
  },
  {
   "cell_type": "code",
   "execution_count": 7,
   "id": "591dae72",
   "metadata": {},
   "outputs": [],
   "source": [
    "startOffsets = []\n",
    "endOffsets = []\n",
    "labels =[]\n",
    "sentences = []"
   ]
  },
  {
   "cell_type": "code",
   "execution_count": 8,
   "id": "826c1778",
   "metadata": {},
   "outputs": [],
   "source": [
    "for ele in focus_data:\n",
    "#     print(type(ele))\n",
    "#     print(ele.keys())\n",
    "#     print(ele['value']['htmllabels'][0])\n",
    "#     print(ele['value'])\n",
    "    startOffsets.append(ele['value']['startOffset'])\n",
    "    endOffsets.append(ele['value']['endOffset'])\n",
    "    labels.append(ele['value']['htmllabels'][0])\n",
    "    sentences.append(ele['value']['text'])\n",
    "#     print(ele['htmllabels'])\n",
    "#     print('  ')"
   ]
  },
  {
   "cell_type": "code",
   "execution_count": 9,
   "id": "eecfd148",
   "metadata": {},
   "outputs": [
    {
     "name": "stdout",
     "output_type": "stream",
     "text": [
      "6\n",
      "6\n",
      "6\n",
      "6\n"
     ]
    }
   ],
   "source": [
    "print(len(startOffsets))\n",
    "print(len(endOffsets))\n",
    "print(len(labels))\n",
    "print(len(sentences))"
   ]
  },
  {
   "cell_type": "code",
   "execution_count": 10,
   "id": "2737b186",
   "metadata": {},
   "outputs": [],
   "source": [
    "contract_id = [data['data']['filename'].split('.')[0]] * len(startOffsets)"
   ]
  },
  {
   "cell_type": "code",
   "execution_count": 11,
   "id": "fbda9535",
   "metadata": {},
   "outputs": [],
   "source": [
    "df = pd.DataFrame(list(zip(labels, sentences,contract_id,startOffsets,endOffsets)),\n",
    "               columns =['label', 'sentence','contract_id','startOffset','endOffset'])"
   ]
  },
  {
   "cell_type": "code",
   "execution_count": 12,
   "id": "a4c217ee",
   "metadata": {},
   "outputs": [
    {
     "data": {
      "text/html": [
       "<div>\n",
       "<style scoped>\n",
       "    .dataframe tbody tr th:only-of-type {\n",
       "        vertical-align: middle;\n",
       "    }\n",
       "\n",
       "    .dataframe tbody tr th {\n",
       "        vertical-align: top;\n",
       "    }\n",
       "\n",
       "    .dataframe thead th {\n",
       "        text-align: right;\n",
       "    }\n",
       "</style>\n",
       "<table border=\"1\" class=\"dataframe\">\n",
       "  <thead>\n",
       "    <tr style=\"text-align: right;\">\n",
       "      <th></th>\n",
       "      <th>label</th>\n",
       "      <th>sentence</th>\n",
       "      <th>contract_id</th>\n",
       "      <th>startOffset</th>\n",
       "      <th>endOffset</th>\n",
       "    </tr>\n",
       "  </thead>\n",
       "  <tbody>\n",
       "    <tr>\n",
       "      <th>0</th>\n",
       "      <td>Contract Title</td>\n",
       "      <td>Mutual Confidentiality and Non-Disclosure Agre...</td>\n",
       "      <td>1qpqQsbhhUq</td>\n",
       "      <td>0</td>\n",
       "      <td>24</td>\n",
       "    </tr>\n",
       "    <tr>\n",
       "      <th>1</th>\n",
       "      <td>Commencement</td>\n",
       "      <td>In order to protect certain confidential infor...</td>\n",
       "      <td>1qpqQsbhhUq</td>\n",
       "      <td>0</td>\n",
       "      <td>352</td>\n",
       "    </tr>\n",
       "    <tr>\n",
       "      <th>2</th>\n",
       "      <td>CI Definition</td>\n",
       "      <td>Either Party may terminate this Agreement by g...</td>\n",
       "      <td>1qpqQsbhhUq</td>\n",
       "      <td>2</td>\n",
       "      <td>155</td>\n",
       "    </tr>\n",
       "    <tr>\n",
       "      <th>3</th>\n",
       "      <td>Survival</td>\n",
       "      <td>However, the obligations of this Agreement sha...</td>\n",
       "      <td>1qpqQsbhhUq</td>\n",
       "      <td>1</td>\n",
       "      <td>125</td>\n",
       "    </tr>\n",
       "    <tr>\n",
       "      <th>4</th>\n",
       "      <td>Assignment and Succssor</td>\n",
       "      <td>Neither Party may delegate its obligations her...</td>\n",
       "      <td>1qpqQsbhhUq</td>\n",
       "      <td>3</td>\n",
       "      <td>271</td>\n",
       "    </tr>\n",
       "    <tr>\n",
       "      <th>5</th>\n",
       "      <td>Entire Agreement</td>\n",
       "      <td>Except by a specific written instrument duly e...</td>\n",
       "      <td>1qpqQsbhhUq</td>\n",
       "      <td>0</td>\n",
       "      <td>386</td>\n",
       "    </tr>\n",
       "  </tbody>\n",
       "</table>\n",
       "</div>"
      ],
      "text/plain": [
       "                     label                                           sentence  \\\n",
       "0           Contract Title  Mutual Confidentiality and Non-Disclosure Agre...   \n",
       "1             Commencement  In order to protect certain confidential infor...   \n",
       "2            CI Definition  Either Party may terminate this Agreement by g...   \n",
       "3                 Survival  However, the obligations of this Agreement sha...   \n",
       "4  Assignment and Succssor  Neither Party may delegate its obligations her...   \n",
       "5         Entire Agreement  Except by a specific written instrument duly e...   \n",
       "\n",
       "   contract_id  startOffset  endOffset  \n",
       "0  1qpqQsbhhUq            0         24  \n",
       "1  1qpqQsbhhUq            0        352  \n",
       "2  1qpqQsbhhUq            2        155  \n",
       "3  1qpqQsbhhUq            1        125  \n",
       "4  1qpqQsbhhUq            3        271  \n",
       "5  1qpqQsbhhUq            0        386  "
      ]
     },
     "execution_count": 12,
     "metadata": {},
     "output_type": "execute_result"
    }
   ],
   "source": [
    "df"
   ]
  },
  {
   "cell_type": "markdown",
   "id": "f1146db8",
   "metadata": {},
   "source": [
    "# Sort the data by offset interval"
   ]
  },
  {
   "cell_type": "code",
   "execution_count": 13,
   "id": "93bec03e",
   "metadata": {},
   "outputs": [],
   "source": [
    "df['offset_Interval'] = df['endOffset'] - df['startOffset']"
   ]
  },
  {
   "cell_type": "code",
   "execution_count": 14,
   "id": "f6bc910b",
   "metadata": {},
   "outputs": [
    {
     "data": {
      "text/html": [
       "<div>\n",
       "<style scoped>\n",
       "    .dataframe tbody tr th:only-of-type {\n",
       "        vertical-align: middle;\n",
       "    }\n",
       "\n",
       "    .dataframe tbody tr th {\n",
       "        vertical-align: top;\n",
       "    }\n",
       "\n",
       "    .dataframe thead th {\n",
       "        text-align: right;\n",
       "    }\n",
       "</style>\n",
       "<table border=\"1\" class=\"dataframe\">\n",
       "  <thead>\n",
       "    <tr style=\"text-align: right;\">\n",
       "      <th></th>\n",
       "      <th>label</th>\n",
       "      <th>sentence</th>\n",
       "      <th>contract_id</th>\n",
       "      <th>startOffset</th>\n",
       "      <th>endOffset</th>\n",
       "      <th>offset_Interval</th>\n",
       "    </tr>\n",
       "  </thead>\n",
       "  <tbody>\n",
       "    <tr>\n",
       "      <th>0</th>\n",
       "      <td>Contract Title</td>\n",
       "      <td>Mutual Confidentiality and Non-Disclosure Agre...</td>\n",
       "      <td>1qpqQsbhhUq</td>\n",
       "      <td>0</td>\n",
       "      <td>24</td>\n",
       "      <td>24</td>\n",
       "    </tr>\n",
       "    <tr>\n",
       "      <th>1</th>\n",
       "      <td>Commencement</td>\n",
       "      <td>In order to protect certain confidential infor...</td>\n",
       "      <td>1qpqQsbhhUq</td>\n",
       "      <td>0</td>\n",
       "      <td>352</td>\n",
       "      <td>352</td>\n",
       "    </tr>\n",
       "    <tr>\n",
       "      <th>2</th>\n",
       "      <td>CI Definition</td>\n",
       "      <td>Either Party may terminate this Agreement by g...</td>\n",
       "      <td>1qpqQsbhhUq</td>\n",
       "      <td>2</td>\n",
       "      <td>155</td>\n",
       "      <td>153</td>\n",
       "    </tr>\n",
       "    <tr>\n",
       "      <th>3</th>\n",
       "      <td>Survival</td>\n",
       "      <td>However, the obligations of this Agreement sha...</td>\n",
       "      <td>1qpqQsbhhUq</td>\n",
       "      <td>1</td>\n",
       "      <td>125</td>\n",
       "      <td>124</td>\n",
       "    </tr>\n",
       "    <tr>\n",
       "      <th>4</th>\n",
       "      <td>Assignment and Succssor</td>\n",
       "      <td>Neither Party may delegate its obligations her...</td>\n",
       "      <td>1qpqQsbhhUq</td>\n",
       "      <td>3</td>\n",
       "      <td>271</td>\n",
       "      <td>268</td>\n",
       "    </tr>\n",
       "    <tr>\n",
       "      <th>5</th>\n",
       "      <td>Entire Agreement</td>\n",
       "      <td>Except by a specific written instrument duly e...</td>\n",
       "      <td>1qpqQsbhhUq</td>\n",
       "      <td>0</td>\n",
       "      <td>386</td>\n",
       "      <td>386</td>\n",
       "    </tr>\n",
       "  </tbody>\n",
       "</table>\n",
       "</div>"
      ],
      "text/plain": [
       "                     label                                           sentence  \\\n",
       "0           Contract Title  Mutual Confidentiality and Non-Disclosure Agre...   \n",
       "1             Commencement  In order to protect certain confidential infor...   \n",
       "2            CI Definition  Either Party may terminate this Agreement by g...   \n",
       "3                 Survival  However, the obligations of this Agreement sha...   \n",
       "4  Assignment and Succssor  Neither Party may delegate its obligations her...   \n",
       "5         Entire Agreement  Except by a specific written instrument duly e...   \n",
       "\n",
       "   contract_id  startOffset  endOffset  offset_Interval  \n",
       "0  1qpqQsbhhUq            0         24               24  \n",
       "1  1qpqQsbhhUq            0        352              352  \n",
       "2  1qpqQsbhhUq            2        155              153  \n",
       "3  1qpqQsbhhUq            1        125              124  \n",
       "4  1qpqQsbhhUq            3        271              268  \n",
       "5  1qpqQsbhhUq            0        386              386  "
      ]
     },
     "execution_count": 14,
     "metadata": {},
     "output_type": "execute_result"
    }
   ],
   "source": [
    "df"
   ]
  },
  {
   "cell_type": "code",
   "execution_count": 15,
   "id": "1380344b",
   "metadata": {},
   "outputs": [],
   "source": [
    "df.sort_values(by=['offset_Interval'],ignore_index=True,inplace=True)"
   ]
  },
  {
   "cell_type": "code",
   "execution_count": 16,
   "id": "31dc1252",
   "metadata": {},
   "outputs": [
    {
     "data": {
      "text/html": [
       "<div>\n",
       "<style scoped>\n",
       "    .dataframe tbody tr th:only-of-type {\n",
       "        vertical-align: middle;\n",
       "    }\n",
       "\n",
       "    .dataframe tbody tr th {\n",
       "        vertical-align: top;\n",
       "    }\n",
       "\n",
       "    .dataframe thead th {\n",
       "        text-align: right;\n",
       "    }\n",
       "</style>\n",
       "<table border=\"1\" class=\"dataframe\">\n",
       "  <thead>\n",
       "    <tr style=\"text-align: right;\">\n",
       "      <th></th>\n",
       "      <th>label</th>\n",
       "      <th>sentence</th>\n",
       "      <th>contract_id</th>\n",
       "      <th>startOffset</th>\n",
       "      <th>endOffset</th>\n",
       "      <th>offset_Interval</th>\n",
       "    </tr>\n",
       "  </thead>\n",
       "  <tbody>\n",
       "    <tr>\n",
       "      <th>0</th>\n",
       "      <td>Contract Title</td>\n",
       "      <td>Mutual Confidentiality and Non-Disclosure Agre...</td>\n",
       "      <td>1qpqQsbhhUq</td>\n",
       "      <td>0</td>\n",
       "      <td>24</td>\n",
       "      <td>24</td>\n",
       "    </tr>\n",
       "    <tr>\n",
       "      <th>1</th>\n",
       "      <td>Survival</td>\n",
       "      <td>However, the obligations of this Agreement sha...</td>\n",
       "      <td>1qpqQsbhhUq</td>\n",
       "      <td>1</td>\n",
       "      <td>125</td>\n",
       "      <td>124</td>\n",
       "    </tr>\n",
       "    <tr>\n",
       "      <th>2</th>\n",
       "      <td>CI Definition</td>\n",
       "      <td>Either Party may terminate this Agreement by g...</td>\n",
       "      <td>1qpqQsbhhUq</td>\n",
       "      <td>2</td>\n",
       "      <td>155</td>\n",
       "      <td>153</td>\n",
       "    </tr>\n",
       "    <tr>\n",
       "      <th>3</th>\n",
       "      <td>Assignment and Succssor</td>\n",
       "      <td>Neither Party may delegate its obligations her...</td>\n",
       "      <td>1qpqQsbhhUq</td>\n",
       "      <td>3</td>\n",
       "      <td>271</td>\n",
       "      <td>268</td>\n",
       "    </tr>\n",
       "    <tr>\n",
       "      <th>4</th>\n",
       "      <td>Commencement</td>\n",
       "      <td>In order to protect certain confidential infor...</td>\n",
       "      <td>1qpqQsbhhUq</td>\n",
       "      <td>0</td>\n",
       "      <td>352</td>\n",
       "      <td>352</td>\n",
       "    </tr>\n",
       "    <tr>\n",
       "      <th>5</th>\n",
       "      <td>Entire Agreement</td>\n",
       "      <td>Except by a specific written instrument duly e...</td>\n",
       "      <td>1qpqQsbhhUq</td>\n",
       "      <td>0</td>\n",
       "      <td>386</td>\n",
       "      <td>386</td>\n",
       "    </tr>\n",
       "  </tbody>\n",
       "</table>\n",
       "</div>"
      ],
      "text/plain": [
       "                     label                                           sentence  \\\n",
       "0           Contract Title  Mutual Confidentiality and Non-Disclosure Agre...   \n",
       "1                 Survival  However, the obligations of this Agreement sha...   \n",
       "2            CI Definition  Either Party may terminate this Agreement by g...   \n",
       "3  Assignment and Succssor  Neither Party may delegate its obligations her...   \n",
       "4             Commencement  In order to protect certain confidential infor...   \n",
       "5         Entire Agreement  Except by a specific written instrument duly e...   \n",
       "\n",
       "   contract_id  startOffset  endOffset  offset_Interval  \n",
       "0  1qpqQsbhhUq            0         24               24  \n",
       "1  1qpqQsbhhUq            1        125              124  \n",
       "2  1qpqQsbhhUq            2        155              153  \n",
       "3  1qpqQsbhhUq            3        271              268  \n",
       "4  1qpqQsbhhUq            0        352              352  \n",
       "5  1qpqQsbhhUq            0        386              386  "
      ]
     },
     "execution_count": 16,
     "metadata": {},
     "output_type": "execute_result"
    }
   ],
   "source": [
    "df"
   ]
  },
  {
   "cell_type": "markdown",
   "id": "cb94bca7",
   "metadata": {},
   "source": [
    "# Result  And Check"
   ]
  },
  {
   "cell_type": "code",
   "execution_count": 17,
   "id": "bdcb9844",
   "metadata": {},
   "outputs": [
    {
     "data": {
      "text/html": [
       "<div>\n",
       "<style scoped>\n",
       "    .dataframe tbody tr th:only-of-type {\n",
       "        vertical-align: middle;\n",
       "    }\n",
       "\n",
       "    .dataframe tbody tr th {\n",
       "        vertical-align: top;\n",
       "    }\n",
       "\n",
       "    .dataframe thead th {\n",
       "        text-align: right;\n",
       "    }\n",
       "</style>\n",
       "<table border=\"1\" class=\"dataframe\">\n",
       "  <thead>\n",
       "    <tr style=\"text-align: right;\">\n",
       "      <th></th>\n",
       "      <th>label</th>\n",
       "      <th>sentence</th>\n",
       "      <th>contract_id</th>\n",
       "    </tr>\n",
       "  </thead>\n",
       "  <tbody>\n",
       "    <tr>\n",
       "      <th>0</th>\n",
       "      <td>Contract Title</td>\n",
       "      <td>Mutual Confidentiality and Non-Disclosure Agre...</td>\n",
       "      <td>1qpqQsbhhUq</td>\n",
       "    </tr>\n",
       "    <tr>\n",
       "      <th>1</th>\n",
       "      <td>Survival</td>\n",
       "      <td>However, the obligations of this Agreement sha...</td>\n",
       "      <td>1qpqQsbhhUq</td>\n",
       "    </tr>\n",
       "    <tr>\n",
       "      <th>2</th>\n",
       "      <td>CI Definition</td>\n",
       "      <td>Either Party may terminate this Agreement by g...</td>\n",
       "      <td>1qpqQsbhhUq</td>\n",
       "    </tr>\n",
       "    <tr>\n",
       "      <th>3</th>\n",
       "      <td>Assignment and Succssor</td>\n",
       "      <td>Neither Party may delegate its obligations her...</td>\n",
       "      <td>1qpqQsbhhUq</td>\n",
       "    </tr>\n",
       "    <tr>\n",
       "      <th>4</th>\n",
       "      <td>Commencement</td>\n",
       "      <td>In order to protect certain confidential infor...</td>\n",
       "      <td>1qpqQsbhhUq</td>\n",
       "    </tr>\n",
       "    <tr>\n",
       "      <th>5</th>\n",
       "      <td>Entire Agreement</td>\n",
       "      <td>Except by a specific written instrument duly e...</td>\n",
       "      <td>1qpqQsbhhUq</td>\n",
       "    </tr>\n",
       "  </tbody>\n",
       "</table>\n",
       "</div>"
      ],
      "text/plain": [
       "                     label                                           sentence  \\\n",
       "0           Contract Title  Mutual Confidentiality and Non-Disclosure Agre...   \n",
       "1                 Survival  However, the obligations of this Agreement sha...   \n",
       "2            CI Definition  Either Party may terminate this Agreement by g...   \n",
       "3  Assignment and Succssor  Neither Party may delegate its obligations her...   \n",
       "4             Commencement  In order to protect certain confidential infor...   \n",
       "5         Entire Agreement  Except by a specific written instrument duly e...   \n",
       "\n",
       "   contract_id  \n",
       "0  1qpqQsbhhUq  \n",
       "1  1qpqQsbhhUq  \n",
       "2  1qpqQsbhhUq  \n",
       "3  1qpqQsbhhUq  \n",
       "4  1qpqQsbhhUq  \n",
       "5  1qpqQsbhhUq  "
      ]
     },
     "execution_count": 17,
     "metadata": {},
     "output_type": "execute_result"
    }
   ],
   "source": [
    "reult_df = df[['label','sentence','contract_id']]\n",
    "reult_df"
   ]
  },
  {
   "cell_type": "code",
   "execution_count": 18,
   "id": "1b8f0a1a",
   "metadata": {},
   "outputs": [],
   "source": [
    "#  Wtite to JSON file.\n",
    "\n",
    "reult_df.to_json('result.json',orient=\"records\")"
   ]
  },
  {
   "cell_type": "code",
   "execution_count": 19,
   "id": "fa11a07a",
   "metadata": {},
   "outputs": [
    {
     "name": "stdout",
     "output_type": "stream",
     "text": [
      "[\n",
      "    {\n",
      "        \"label\": \"Contract Title\",\n",
      "        \"sentence\": \"Mutual Confidentiality and Non-Disclosure Agreement\",\n",
      "        \"contract_id\": \"1qpqQsbhhUq\"\n",
      "    },\n",
      "    {\n",
      "        \"label\": \"Survival\",\n",
      "        \"sentence\": \"However, the obligations of this Agreement shall survive termination for the three (3) year period described in paragraph 3.\",\n",
      "        \"contract_id\": \"1qpqQsbhhUq\"\n",
      "    },\n",
      "    {\n",
      "        \"label\": \"CI Definition\",\n",
      "        \"sentence\": \"Either Party may terminate this Agreement by giving the other Party written notice thereof at least thirty (30) days prior to the effective date thereof.\",\n",
      "        \"contract_id\": \"1qpqQsbhhUq\"\n",
      "    },\n",
      "    {\n",
      "        \"label\": \"Assignment and Succssor\",\n",
      "        \"sentence\": \"Neither Party may delegate its obligations hereunder or assign its rights as a Recipient without the prior written consent of the other Party, and any purported assignment or delegation in violation of this Agreement will be void and deemed a breach of this Agreement.\",\n",
      "        \"contract_id\": \"1qpqQsbhhUq\"\n",
      "    },\n",
      "    {\n",
      "        \"label\": \"Commencement\",\n",
      "        \"sentence\": \"In order to protect certain confidential information which may be disclosed between them, NewNet Communication Technologies, LLC and the undersigned company (each referred to as a \\u201cParty\\u201d or collectively as the \\u201cParties\\u201d) agree to the following terms and conditions (the \\u201cAgreement\\u201d) to cover disclosure of the Confidential Information described below:\",\n",
      "        \"contract_id\": \"1qpqQsbhhUq\"\n",
      "    },\n",
      "    {\n",
      "        \"label\": \"Entire Agreement\",\n",
      "        \"sentence\": \"Except by a specific written instrument duly executed by both Paties, this Agreement sets forth the entire understanding of the Parties with respect to the subject matter hereof; incorporates and merges any and all previous agreements, understandings, and communications (oral or written) with respect to the subject matter of this Agreement and may not be modified, amended or waived. \",\n",
      "        \"contract_id\": \"1qpqQsbhhUq\"\n",
      "    }\n",
      "]\n"
     ]
    }
   ],
   "source": [
    "# parsing the result to check\n",
    "\n",
    "result = reult_df.to_json(orient=\"records\")\n",
    "parsed = json.loads(result)\n",
    "print(json.dumps(parsed, indent=4))  "
   ]
  }
 ],
 "metadata": {
  "kernelspec": {
   "display_name": "Python 3",
   "language": "python",
   "name": "python3"
  },
  "language_info": {
   "codemirror_mode": {
    "name": "ipython",
    "version": 3
   },
   "file_extension": ".py",
   "mimetype": "text/x-python",
   "name": "python",
   "nbconvert_exporter": "python",
   "pygments_lexer": "ipython3",
   "version": "3.7.10"
  }
 },
 "nbformat": 4,
 "nbformat_minor": 5
}
